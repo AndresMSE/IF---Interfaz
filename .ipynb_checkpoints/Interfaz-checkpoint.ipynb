{
 "cells": [
  {
   "cell_type": "code",
   "execution_count": 1,
   "metadata": {},
   "outputs": [],
   "source": [
    "import sys\n",
    "from PyQt5 import uic, QtWidgets\n",
    "import pandas as pd\n",
    "import matplotlib.pyplot as plt\n",
    "from matplotlib.animation import FuncAnimation\n",
    "import matplotlib\n",
    "import numpy as np\n",
    "import os\n",
    "from pandas import ExcelWriter\n",
    "matplotlib.use(\"TkAgg\")\n",
    "import seaborn as sns\n",
    "import csv\n",
    "import CWT as wv"
   ]
  },
  {
   "cell_type": "code",
   "execution_count": 2,
   "metadata": {},
   "outputs": [],
   "source": [
    "# Cargamos los datod tipo Ui para poder representar el programa en interfaz\n",
    "qtCreatorFile = \"Menus.ui\"  # Nombre del archivo aquí.\n",
    "Acceso = \"Acceso.ui\"\n",
    "Mensajes = \"Mensajes.ui\"\n",
    "MenuFile=\"MenuFile.ui\"\n",
    "MenuFunciones=\"Funciones.ui\"\n",
    "MenuGraficas=\"MenuGraficar.ui\"\n",
    "MenuExportar=\"Exportar.ui\"\n",
    "MenuVerArchivos=\"VerArchivos.ui\"\n",
    "MenuAnalizar=\"AnalizarMenu.ui\"\n",
    "MetodoFourier=\"MetodoFourier.ui\"\n",
    "MenuWB=\"MenuWB.ui\"\n",
    "Analizar_SSA = 'SSA.ui'\n",
    "\n",
    "Ui_MainWindow, QtBaseClass = uic.loadUiType(qtCreatorFile)\n",
    "Ui_Acceso, BaseAcceso = uic.loadUiType(Acceso)\n",
    "Ui_Mensaje, BaseMensaje = uic.loadUiType(Mensajes)\n",
    "Ui_MenuFile, BaseMenuFile = uic.loadUiType(MenuFile)\n",
    "Ui_Funciones, BaseFunciones = uic.loadUiType(MenuFunciones)\n",
    "Ui_MenuGraficas,BaseGraficas=uic.loadUiType(MenuGraficas)\n",
    "Ui_MenuExportar,BaseExportar=uic.loadUiType(MenuExportar)\n",
    "Ui_MenuVerArchivos,BaseVerArchivos=uic.loadUiType(MenuVerArchivos)\n",
    "Ui_MenuAnalizar,BaseMenuAnalizar=uic.loadUiType(MenuAnalizar)\n",
    "Ui_MetodoFourier,BaseMetodFourier=uic.loadUiType(MetodoFourier)\n",
    "Ui_MenuWB,BaseMenuWB=uic.loadUiType(MenuWB)\n",
    "Ui_Analizar_SSA,BaseAnalizar_SSA=uic.loadUiType(Analizar_SSA)\n"
   ]
  },
  {
   "cell_type": "code",
   "execution_count": 3,
   "metadata": {},
   "outputs": [
    {
     "data": {
      "text/plain": [
       "'Clase para análisis SSA'"
      ]
     },
     "execution_count": 3,
     "metadata": {},
     "output_type": "execute_result"
    }
   ],
   "source": [
    "#Definiremos el estado #No autaorizado, si se dio acceso al usuario cambiara a #Autorizado\n",
    "Estado = \"No autorizado\"\n",
    "Archivo = 0\n",
    "\n",
    "SerieMetodo= \"Vacio\"\n",
    "\n",
    "\n",
    "#Ventana principal del programa\n",
    "class MyApp(QtWidgets.QMainWindow, Ui_MainWindow):\n",
    "    def __init__(self):\n",
    "        super(QtBaseClass, self).__init__()\n",
    "        Ui_MainWindow.__init__(self)\n",
    "        self.setupUi(self)\n",
    "        self.Boton.clicked.connect(self.AbrirAcceso)\n",
    "        self.Boton.clicked.connect(self.close)\n",
    "    def AbrirAcceso(self):\n",
    "        # self.destroy()\n",
    "        self.DarAcceso = Acceso()\n",
    "        self.DarAcceso.show()\n",
    "\n",
    "class Acceso(QtWidgets.QDialog, Ui_Acceso):\n",
    "\n",
    "    def __init__(self):\n",
    "        super(BaseAcceso, self).__init__()\n",
    "        self.setupUi(self)\n",
    "        self.BotonIngresar.clicked.connect(self.Entrar)\n",
    "        self.BotonCancelar.clicked.connect(self.close)\n",
    "    def Entrar(self):\n",
    "        Usuario = self.Usuario.text()\n",
    "        Contrasena = self.Contrasena.text()\n",
    "        # Eventos relacionados para confirmar las identificaciones del usuario\n",
    "\n",
    "        if Usuario == \"Diego\" and Contrasena == \"123\":\n",
    "            global Estado\n",
    "            Estado = \"Autorizado\"\n",
    "            # Cerramos el Formulario\n",
    "            self.close()\n",
    "        self.Mensajes = Aviso()\n",
    "        self.Mensajes.show()\n",
    "\n",
    "        if Estado==\"Autorizado\":\n",
    "         self.Mensajes.close()\n",
    "         self.Funciones = Funciones()\n",
    "         self.Funciones.show()\n",
    "         #self.close()\n",
    "\n",
    "\n",
    "class Aviso(QtWidgets.QDialog, Ui_Mensaje):\n",
    "    def __init__(self):\n",
    "        super(BaseMensaje, self).__init__()\n",
    "        self.setupUi(self)\n",
    "        self.NotificarAcceso()\n",
    "\n",
    "    def NotificarAcceso(self):\n",
    "        global Estado\n",
    "        if Estado == \"Autorizado\":\n",
    "            self.Mensaje.setText(\"Acceso Permitido\")\n",
    "\n",
    "            #Estado=\"No Autorizado\"\n",
    "\n",
    "        else:\n",
    "            self.Mensaje.setText(\"Acceso Denegado\")\n",
    "\n",
    "\n",
    "class LectorCsv(QtWidgets.QMainWindow, Ui_MenuFile):\n",
    "    def __init__(self):\n",
    "        QtWidgets.QMainWindow.__init__(self)\n",
    "        Ui_MainWindow.__init__(self)\n",
    "        self.setupUi(self)\n",
    "        self.Importar1.clicked.connect(self.getCSV)\n",
    "        self.Guardar.clicked.connect(self.CargarDatos)\n",
    "        self.Cancelar.clicked.connect(self.VolverMenu)\n",
    "\n",
    "    def getCSV(self):\n",
    "        filePath, _ = QtWidgets.QFileDialog.getOpenFileName(self, 'Open file', '/home')\n",
    "\n",
    "        if filePath != \"\":\n",
    "            print(\"Dirección\", filePath)  # Opcional imprimir la dirección del archivo\n",
    "            self.df = pd.read_csv(str(filePath))\n",
    "            self.Direccion.setText(str(filePath))\n",
    "            self.ComboHoja.clear()\n",
    "            self.ComboHoja.addItems(list(self.df.columns.values))\n",
    "            global Archivo\n",
    "            Archivo = pd.read_csv(str(filePath))\n",
    "\n",
    "    def VolverMenu(self):\n",
    "        self.VolverMenu = Funciones()\n",
    "        self.close()\n",
    "        self.VolverMenu.show()\n",
    "\n",
    "    def CargarDatos(self):\n",
    "\n",
    "        Base = pd.read_csv(\"Base.csv\")\n",
    "            #Tranformamos la lista a un dataframe de la\n",
    "        Base = pd.DataFrame(Base)\n",
    "        global Archivo\n",
    "        aux=pd.DataFrame(Archivo)\n",
    "        Nombres=aux.columns\n",
    "        Indice=len(Base.columns)\n",
    "        for x in Nombres:\n",
    "         Base.insert(Indice,x,aux[x],True)\n",
    "         Indice=Indice+1\n",
    "        Base.to_csv('Base.csv',header=True,index=False)\n",
    "\n",
    "\n",
    "\n",
    "\n",
    "#Menu de Funciones\n",
    "class Funciones(QtWidgets.QMainWindow, Ui_Funciones):\n",
    "    def __init__(self):\n",
    "        super(BaseFunciones, self).__init__()\n",
    "        self.setupUi(self)\n",
    "        ################# Botones #########################\n",
    "        # Importar Datos\n",
    "        self.SubirArchivo.clicked.connect(self.ImportarDatos)\n",
    "        # Menu de GRaficas\n",
    "        self.Graficar.clicked.connect(self.MenuGraficas)\n",
    "        self.ExportarArchivos.clicked.connect(self.MenuExportar)\n",
    "        self.VerArchivos.clicked.connect(self.MenuVerDatos)\n",
    "        self.Analizar.clicked.connect(self.MenuAnalisis)\n",
    "\n",
    "    def ImportarDatos(self):\n",
    "        # Al presionar el boton de SubirArchivo desplegamos un objeto de la clase lector csv\n",
    "         self.close()\n",
    "         self.Menu = LectorCsv()\n",
    "         self.Menu.show()\n",
    "    def MenuGraficas(self):\n",
    "        self.close()\n",
    "        self.Menu=MGraficas()\n",
    "        self.Menu.show()\n",
    "    def MenuExportar(self):\n",
    "        self.close()\n",
    "        self.Menu=MenuExportarDatos()\n",
    "        self.Menu.show()\n",
    "    def MenuVerDatos(self):\n",
    "        self.close()\n",
    "        self.VDatos=MenuVerDato()\n",
    "        self.VDatos.show()\n",
    "\n",
    "    def MenuAnalisis(self):\n",
    "            self.close()\n",
    "            self.CrearAnalisis = Analisis()\n",
    "            self.CrearAnalisis.show()\n",
    "\n",
    "# Menu de Graficas\n",
    "class MGraficas(QtWidgets.QMainWindow,Ui_MenuGraficas):\n",
    "     def __init__(self):\n",
    "        super(BaseGraficas, self).__init__()\n",
    "        self.df = pd.read_csv(\"Base.csv\")\n",
    "        self.setupUi(self)\n",
    "        self.Cancelar.clicked.connect(self.RegresaMenu)\n",
    "        self.SerieTiempo.addItems(list(self.df.columns.values))\n",
    "        self.SerieTiempo_2.addItems(list(self.df.columns.values))\n",
    "        self.Graficar.clicked.connect(self.Graficas)\n",
    "        self.ColorGrafico.addItems(list(['Rojo','Azul','Negro','Amarillo']))\n",
    "        self.ColorGrafico_2.addItems(list(['Rojo', 'Azul', 'Negro', 'Amarillo']))\n",
    "        self.TipoDeGraficoComboBox.addItems(list(['Animacion', 'Boxplot', 'Linea', 'Correlograma']))\n",
    "        self.TipoDeGraficoComboBox_2.addItems(list(['Animacion', 'Boxplot', 'Linea', 'Correlograma']))\n",
    "        self.Anadir.clicked.connect(self.Aneade)\n",
    "        self.Anadir_2.clicked.connect(self.Aneade1)\n",
    "\n",
    "\n",
    "     def RegresaMenu(self):\n",
    "         self.close()\n",
    "         self.Menu=Funciones()\n",
    "         self.Menu.show()\n",
    "\n",
    "     def Graficas(self):\n",
    "         self.datos=self.df[str(self.SerieTiempo.currentText())]\n",
    "         self.datos1=self.df[str(self.SerieTiempo_2.currentText())]\n",
    "\n",
    "         velocidad=int(self.velocidadLineEdit.text())\n",
    "         x = np.arange(0, 1500, 3 / 1500)\n",
    "         y=self.datos\n",
    "         z=self.datos1\n",
    "         fig, (ax1, ax2) = plt.subplots(2, 1)\n",
    "         data_skip = 5\n",
    "\n",
    "         def init_func():\n",
    "             # ax.clear()\n",
    "             plt.xlabel('Tiempo')\n",
    "             plt.ylabel('voltaje')\n",
    "             ax1.set_title(str(self.SerieTiempo.currentText()))\n",
    "             ax2.set_title(str(self.SerieTiempo_2.currentText()))\n",
    "\n",
    "         fig.tight_layout()\n",
    "         def Selecionarcolor(text):\n",
    "\n",
    "             if text == \"Rojo\":\n",
    "                 colore = \"red\"\n",
    "             if text == \"Azul\":\n",
    "                 colore = \"blue\"\n",
    "             if text == \"Negro\":\n",
    "                 colore = \"k\"\n",
    "             if text == \"Amarillo\":\n",
    "                 colore = \"yellow\"\n",
    "\n",
    "             return colore\n",
    "\n",
    "         def update_plot(i):\n",
    "\n",
    "             Color = str(self.ColorGrafico.currentText())\n",
    "             Color1 = str(self.ColorGrafico_2.currentText())\n",
    "             a = Selecionarcolor(Color)\n",
    "             b = Selecionarcolor(Color1)\n",
    "\n",
    "             ax1.plot(x[i:i + data_skip], y[i:i + data_skip], color=a)\n",
    "             ax2.plot(x[i:i + data_skip], z[i:i + data_skip], color=b)\n",
    "         anim = FuncAnimation(fig,\n",
    "                              update_plot,\n",
    "                              frames=np.arange(0, len(y), data_skip),\n",
    "                              init_func=init_func,\n",
    "                              interval=velocidad)\n",
    "         plt.show(block=True)\n",
    "     def Aneade(self):\n",
    "\n",
    "         def Selecionarcolor1(text):\n",
    "\n",
    "             if text == \"Rojo\":\n",
    "                 colore = \"red\"\n",
    "             if text == \"Azul\":\n",
    "                 colore = \"blue\"\n",
    "             if text == \"Negro\":\n",
    "                 colore = \"k\"\n",
    "             if text == \"Amarillo\":\n",
    "                 colore = \"yellow\"\n",
    "\n",
    "             return colore\n",
    "         # Tipo de Grafico primer serie\n",
    "         TipoGrafico = str(self.TipoDeGraficoComboBox.currentText())\n",
    "\n",
    "         if TipoGrafico =='Boxplot':\n",
    "             Color = str(self.ColorGrafico.currentText())\n",
    "             Color=Selecionarcolor1(Color)\n",
    "             ax = sns.boxplot(data=self.df[str(self.SerieTiempo.currentText())], orient=\"h\", color=Color)\n",
    "             plt.show(block=True)\n",
    "         if TipoGrafico == 'Linea':\n",
    "             Color = str(self.ColorGrafico.currentText())\n",
    "             Color=Selecionarcolor1(Color)\n",
    "             ax = plt.plot(self.df[str(self.SerieTiempo.currentText())],color=Color)\n",
    "             plt.show(block=True)\n",
    "         if TipoGrafico =='Correlograma':\n",
    "             df=pd.read_csv(\"Base.csv\")\n",
    "             df=pd.DataFrame(df)\n",
    "             # Default heatmap\n",
    "             p1 = sns.heatmap(df)\n",
    "             plt.show(block=True)\n",
    "\n",
    "         #Aneade 2\n",
    "     def Aneade1(self):\n",
    "\n",
    "             def Selecionarcolor1(text):\n",
    "\n",
    "                 if text == \"Rojo\":\n",
    "                     colore = \"red\"\n",
    "                 if text == \"Azul\":\n",
    "                     colore = \"blue\"\n",
    "                 if text == \"Negro\":\n",
    "                     colore = \"k\"\n",
    "                 if text == \"Amarillo\":\n",
    "                     colore = \"yellow\"\n",
    "\n",
    "                 return colore\n",
    "\n",
    "             # Tipo de Grafico primer serie\n",
    "             TipoGrafico = str(self.TipoDeGraficoComboBox_2.currentText())\n",
    "\n",
    "             if TipoGrafico == 'Boxplot':\n",
    "                 Color = str(self.ColorGrafico_2.currentText())\n",
    "                 Color = Selecionarcolor1(Color)\n",
    "                 ax = sns.boxplot(data=self.df[str(self.SerieTiempo_2.currentText())], orient=\"h\", color=Color)\n",
    "                 plt.show(block=True)\n",
    "             if TipoGrafico == 'Linea':\n",
    "                 Color = str(self.ColorGrafico_2.currentText())\n",
    "                 Color = Selecionarcolor1(Color)\n",
    "                 ax = plt.plot(self.df[str(self.SerieTiempo_2.currentText())], color=Color)\n",
    "                 plt.show(block=True)\n",
    "             if TipoGrafico == 'Correlograma':\n",
    "                 df = pd.read_csv(\"Base.csv\")\n",
    "                 df = pd.DataFrame(df)\n",
    "                 # Default heatmap\n",
    "                 p1 = sns.heatmap(df)\n",
    "                 plt.show(block=True)\n",
    "\n",
    "\n",
    "class MenuExportarDatos(QtWidgets.QMainWindow, Ui_MenuExportar):\n",
    "\n",
    "    def __init__(self):\n",
    "        super(BaseExportar, self).__init__()\n",
    "        self.setupUi(self)\n",
    "        self.df = pd.read_csv(\"Base.csv\")\n",
    "        self.Cancelar.clicked.connect(self.RegresaMenu)\n",
    "        self.TipoArchivo.addItems(list(['csv','xml']))\n",
    "        self.Exportar.clicked.connect(self.Exportare)\n",
    "\n",
    "\n",
    "        Ittems=self.df.columns.values\n",
    "        for x in Ittems:\n",
    "         self.ListaExportar.addItem(x)\n",
    "\n",
    "    def RegresaMenu(self):\n",
    "        self.close()\n",
    "        self.Menu = Funciones()\n",
    "        self.Menu.show()\n",
    "\n",
    "\n",
    "    def Exportare(self):\n",
    "        # print(\"sss\")\n",
    "        data=self.ListaExportar.selectedItems()\n",
    "        df=pd.read_csv(\"Base.csv\")\n",
    "        selected=[]\n",
    "        for x in range(len(data)):\n",
    "            selected.append(self.ListaExportar.selectedItems()[x].text())\n",
    "        Exportable=pd.DataFrame([])\n",
    "        contador=0\n",
    "        for i in selected:\n",
    "            Exportable.insert(contador,str(i),df[i],True)\n",
    "            contador=contador+1\n",
    "        Exportable=pd.DataFrame(Exportable)\n",
    "        Nombre=self.NombreArchivo.text()\n",
    "        Tipo=str(self.TipoArchivo.currentText())\n",
    "        if Tipo =='csv':\n",
    "         Exportable.to_csv(str(Nombre)+\".csv\",index=False,header=True)\n",
    "        else:\n",
    "            writer = ExcelWriter(str(os.getcwd())+'\\\\'+str(Nombre)+'.xlsx')\n",
    "            Exportable.to_excel(writer, 'Datos Exportados', index=False)\n",
    "            writer.save()\n",
    "\n",
    "\n",
    "\n",
    "class MenuVerDato(QtWidgets.QMainWindow, Ui_MenuVerArchivos):\n",
    "\n",
    "    def __init__(self):\n",
    "        super(BaseVerArchivos, self).__init__()\n",
    "        self.setupUi(self)\n",
    "        self.df = pd.read_csv(\"Base.csv\")\n",
    "        self.Cancelar.clicked.connect(self.RegresaMenu)\n",
    "        self.Eliminar.clicked.connect(self.Eliminare)\n",
    "\n",
    "        Ittems=self.df.columns.values\n",
    "        for x in Ittems:\n",
    "         self.ListaExportar.addItem(x)\n",
    "\n",
    "    def RegresaMenu(self):\n",
    "        self.close()\n",
    "        self.Menu = Funciones()\n",
    "        self.Menu.show()\n",
    "\n",
    "\n",
    "    def Eliminare(self):\n",
    "        # print(\"sss\")\n",
    "        data=self.ListaExportar.selectedItems()\n",
    "        df=pd.read_csv(\"Base.csv\")\n",
    "        Nuevabase=pd.DataFrame(df)\n",
    "        selected=[]\n",
    "        for x in range(len(data)):\n",
    "            selected.append(self.ListaExportar.selectedItems()[x].text())\n",
    "        Exportable=pd.DataFrame([])\n",
    "\n",
    "        for i in selected:\n",
    "         Nuevabase=Nuevabase.drop([i],axis=1)\n",
    "\n",
    "        Nuevabase.to_csv(\"Base.csv\",index=False,header=True)\n",
    "\n",
    "\n",
    "\n",
    "\n",
    "class Analisis(QtWidgets.QMainWindow, Ui_MenuAnalizar):\n",
    "    def __init__(self):\n",
    "        super(BaseMenuAnalizar, self).__init__()\n",
    "        self.setupUi(self)\n",
    "        self.df = pd.read_csv(\"Base.csv\")\n",
    "        self.Series.addItems(list(self.df.columns.values))\n",
    "        self.Metodo.addItems(list(['Fourier','Transformada Contínua Wavelet','SSA']))\n",
    "        self.Siguiente.clicked.connect(self.AbrirOpcionesMetodo)\n",
    "\n",
    "    def AbrirOpcionesMetodo(self):\n",
    "        Metodo = self.Metodo.currentText()\n",
    "        global SerieMetodo\n",
    "        SerieMetodo=self.Series.currentText()\n",
    "        print(Metodo)\n",
    "        if Metodo == \"Fourier\":\n",
    "            self.close()\n",
    "            self.MetFourier = MetFou()\n",
    "            self.MetFourier.show()\n",
    "        elif Metodo == 'Transformada Contínua Wavelet':\n",
    "            self.close()\n",
    "            self.MetCWT = MenuWeb()\n",
    "            self.MetCWT.show()\n",
    "###\n",
    "\n",
    "class MetFou(QtWidgets.QMainWindow, Ui_MetodoFourier):\n",
    "    def __init__(self):\n",
    "        super(BaseMetodFourier, self).__init__()\n",
    "        self.setupUi(self)\n",
    "        self.df = pd.read_csv(\"Base.csv\")\n",
    "        self.Aceptar.clicked.connect(self.Analizare)\n",
    "    def Analizare(self):\n",
    "        Metodo =\"Fourier\"\n",
    "        Serie= SerieMetodo\n",
    "        print(Serie)\n",
    "        if Metodo == \"Fourier\":\n",
    "            Umbral1=self.Umbral.text()\n",
    "            umbral_ruido = int(Umbral1)\n",
    "            Tiempo_de_medicion = 0.002\n",
    "            F_medicion = 1 / Tiempo_de_medicion\n",
    "            df = pd.read_csv(\"Base.csv\")\n",
    "            A1=df[str(Serie)]\n",
    "            N2 = len(A1)\n",
    "            F2 = np.fft.fft(A1)\n",
    "            import math\n",
    "            x1 = Tiempo_de_medicion * np.arange(0, 1500)\n",
    "            Frecuencia2 = (F_medicion / 2) * np.arange(0, math.floor(N2 / 2)) / math.floor(N2 / 2)\n",
    "\n",
    "            señal_limpia = []\n",
    "\n",
    "            for i in range(0, len(F2)):\n",
    "                if np.abs(F2[i]) > umbral_ruido:\n",
    "                    señal_limpia.append(F2[i])\n",
    "                elif np.abs(F2[i]) <= umbral_ruido:\n",
    "                    señal_limpia.append(0)\n",
    "\n",
    "            fi = np.fft.ifft(señal_limpia)\n",
    "\n",
    "            plt.figure(figsize=(20, 3))\n",
    "            plt.ylim(-0.1, 0.1)\n",
    "            plt.plot(x1, A1, label='Señal original')\n",
    "            plt.plot(x1, fi, color=\"r\", label='Señal filtrada')\n",
    "            plt.xlabel('tiempo (s)',\n",
    "                       fontdict={'color': 'black',\n",
    "                                 'weight': 'bold',\n",
    "                                 'size': 16})\n",
    "            plt.ylabel('Amplitud (v)',\n",
    "                       fontdict={'color': 'black',\n",
    "                                 'weight': 'bold',\n",
    "                                 'size': 16})\n",
    "            plt.legend(loc=\"upper left\")\n",
    "            plt.show(block=True)\n",
    "    #def MenuAnalizarr(self):\n",
    "'''Clase para análisis Wavelet'''\n",
    "class MenuWeb(QtWidgets.QMainWindow, Ui_MenuWB):\n",
    "    def __init__(self):\n",
    "        super(BaseMenuWB, self).__init__()\n",
    "        self.setupUi(self)\n",
    "        self.df = pd.read_csv(\"Base.csv\")\n",
    "        self.Aceptar.clicked.connect(self.Analizar)\n",
    "        self.Cancelar.clicked.connect(self.VeMenuAnalizar)\n",
    "    def VeMenuAnalizar(self):\n",
    "        self.close()\n",
    "        self.Menu = Analisis()\n",
    "        self.Menu.show()\n",
    "    def Analizar(self):\n",
    "        Serie = SerieMetodo\n",
    "#         time_s = len(Serie)/fmuestra\n",
    "        time_s = 3 #Parchesito \n",
    "        fi = int(self.FrecuenciaInicial.text())\n",
    "        ff = int(self.FrecuenciaFinal.text())\n",
    "        ni = int(self.CicloInicial.text())\n",
    "        nf = int(self.CiclosFinal.text())\n",
    "        fint = float(self.IncrementoFrecuencias.text())\n",
    "        df = pd.read_csv(\"Base.csv\")\n",
    "        signal = df[str(Serie)]\n",
    "        spect= wv.MRA(signal*1000,fi,ff,fint,ni,nf,freqm=500) #Obtenemos el espectrograma\n",
    "        plt.figure(figsize=(15,7)) #Declaramos el espacio de figura para graficar\n",
    "        #Utilizamos la función imshow para graficar las intensidades de los valores de la matriz\n",
    "        plt.imshow(spect,extent=[0,time_s,ff,fi],aspect='auto',cmap='turbo') \n",
    "        plt.colorbar(extend='both',label=r'Potencia $[mV^2/sHz]$')\n",
    "        plt.clim(0, spect.max());\n",
    "        plt.gca().invert_yaxis() #Acomodamos y etiquetamos los ejes\n",
    "        plt.xlabel('Tiempo[s]')\n",
    "        plt.ylabel('Frecuencia[Hz]')\n",
    "        plt.title(r'Espectrograma en potencia: $|\\mathcal{X}(t,f)|^2$')\n",
    "        plt.show(block=True)\n",
    "'''Clase para análisis SSA'''"
   ]
  },
  {
   "cell_type": "code",
   "execution_count": 4,
   "metadata": {
    "scrolled": true
   },
   "outputs": [
    {
     "name": "stdout",
     "output_type": "stream",
     "text": [
      "Transformada Contínua Wavelet\n"
     ]
    },
    {
     "ename": "KeyboardInterrupt",
     "evalue": "",
     "output_type": "error",
     "traceback": [
      "\u001b[1;31m---------------------------------------------------------------------------\u001b[0m",
      "\u001b[1;31mKeyboardInterrupt\u001b[0m                         Traceback (most recent call last)",
      "\u001b[1;32m<ipython-input-3-853aff5582cb>\u001b[0m in \u001b[0;36mAbrirOpcionesMetodo\u001b[1;34m(self)\u001b[0m\n\u001b[0;32m    375\u001b[0m         \u001b[0mself\u001b[0m\u001b[1;33m.\u001b[0m\u001b[0mSiguiente\u001b[0m\u001b[1;33m.\u001b[0m\u001b[0mclicked\u001b[0m\u001b[1;33m.\u001b[0m\u001b[0mconnect\u001b[0m\u001b[1;33m(\u001b[0m\u001b[0mself\u001b[0m\u001b[1;33m.\u001b[0m\u001b[0mAbrirOpcionesMetodo\u001b[0m\u001b[1;33m)\u001b[0m\u001b[1;33m\u001b[0m\u001b[1;33m\u001b[0m\u001b[0m\n\u001b[0;32m    376\u001b[0m \u001b[1;33m\u001b[0m\u001b[0m\n\u001b[1;32m--> 377\u001b[1;33m     \u001b[1;32mdef\u001b[0m \u001b[0mAbrirOpcionesMetodo\u001b[0m\u001b[1;33m(\u001b[0m\u001b[0mself\u001b[0m\u001b[1;33m)\u001b[0m\u001b[1;33m:\u001b[0m\u001b[1;33m\u001b[0m\u001b[1;33m\u001b[0m\u001b[0m\n\u001b[0m\u001b[0;32m    378\u001b[0m         \u001b[0mMetodo\u001b[0m \u001b[1;33m=\u001b[0m \u001b[0mself\u001b[0m\u001b[1;33m.\u001b[0m\u001b[0mMetodo\u001b[0m\u001b[1;33m.\u001b[0m\u001b[0mcurrentText\u001b[0m\u001b[1;33m(\u001b[0m\u001b[1;33m)\u001b[0m\u001b[1;33m\u001b[0m\u001b[1;33m\u001b[0m\u001b[0m\n\u001b[0;32m    379\u001b[0m         \u001b[1;32mglobal\u001b[0m \u001b[0mSerieMetodo\u001b[0m\u001b[1;33m\u001b[0m\u001b[1;33m\u001b[0m\u001b[0m\n",
      "\u001b[1;31mKeyboardInterrupt\u001b[0m: "
     ]
    },
    {
     "name": "stdout",
     "output_type": "stream",
     "text": [
      "Fourier\n",
      "AYB 5 segundos Cerebro\n"
     ]
    },
    {
     "name": "stderr",
     "output_type": "stream",
     "text": [
      "C:\\Users\\Andrew S\\anaconda3\\lib\\site-packages\\numpy\\core\\_asarray.py:83: ComplexWarning: Casting complex values to real discards the imaginary part\n",
      "  return array(a, dtype, copy=False, order=order)\n"
     ]
    },
    {
     "ename": "SystemExit",
     "evalue": "0",
     "output_type": "error",
     "traceback": [
      "An exception has occurred, use %tb to see the full traceback.\n",
      "\u001b[1;31mSystemExit\u001b[0m\u001b[1;31m:\u001b[0m 0\n"
     ]
    },
    {
     "name": "stderr",
     "output_type": "stream",
     "text": [
      "C:\\Users\\Andrew S\\anaconda3\\lib\\site-packages\\IPython\\core\\interactiveshell.py:3426: UserWarning: To exit: use 'exit', 'quit', or Ctrl-D.\n",
      "  warn(\"To exit: use 'exit', 'quit', or Ctrl-D.\", stacklevel=1)\n"
     ]
    }
   ],
   "source": [
    "if __name__ == \"__main__\":\n",
    "    app = QtWidgets.QApplication(sys.argv)\n",
    "    window = MyApp()\n",
    "    window.show()\n",
    "    sys.exit(app.exec_())"
   ]
  },
  {
   "cell_type": "code",
   "execution_count": 99,
   "metadata": {},
   "outputs": [],
   "source": [
    "s = '32-33,5-60'"
   ]
  },
  {
   "cell_type": "code",
   "execution_count": 70,
   "metadata": {},
   "outputs": [],
   "source": [
    "import re "
   ]
  },
  {
   "cell_type": "code",
   "execution_count": 100,
   "metadata": {},
   "outputs": [
    {
     "data": {
      "text/plain": [
       "['32', '33']"
      ]
     },
     "execution_count": 100,
     "metadata": {},
     "output_type": "execute_result"
    }
   ],
   "source": [
    "rew = re.findall('\\d+-\\d+', s)\n",
    "re.findall('\\d+',rew[0])"
   ]
  },
  {
   "cell_type": "code",
   "execution_count": 103,
   "metadata": {},
   "outputs": [
    {
     "ename": "SyntaxError",
     "evalue": "unexpected EOF while parsing (<ipython-input-103-d14403804a07>, line 5)",
     "output_type": "error",
     "traceback": [
      "\u001b[1;36m  File \u001b[1;32m\"<ipython-input-103-d14403804a07>\"\u001b[1;36m, line \u001b[1;32m5\u001b[0m\n\u001b[1;33m    #print(j)\u001b[0m\n\u001b[1;37m             ^\u001b[0m\n\u001b[1;31mSyntaxError\u001b[0m\u001b[1;31m:\u001b[0m unexpected EOF while parsing\n"
     ]
    }
   ],
   "source": [
    "for i in rew:\n",
    "    start,end = int(re.findall('\\d+',i)[0]),int(re.findall('\\d+',i)[1])\n",
    "    arange = np.arange(start,end+1)\n",
    "    for j in arange:\n",
    "        #print(j)"
   ]
  },
  {
   "cell_type": "code",
   "execution_count": 26,
   "metadata": {},
   "outputs": [
    {
     "data": {
      "text/plain": [
       "[2, 3, 5, 9]"
      ]
     },
     "execution_count": 26,
     "metadata": {},
     "output_type": "execute_result"
    }
   ],
   "source": [
    "r = []\n",
    "[r.append(int(rew[i])) for i in range(len(rew))]\n",
    "r"
   ]
  },
  {
   "cell_type": "code",
   "execution_count": 40,
   "metadata": {},
   "outputs": [
    {
     "data": {
      "text/plain": [
       "[0, 3, 6, 9, 12, 15, 18, 21, 24, 27]"
      ]
     },
     "execution_count": 40,
     "metadata": {},
     "output_type": "execute_result"
    }
   ],
   "source": [
    "[3*i for i in range(10)]"
   ]
  },
  {
   "cell_type": "code",
   "execution_count": 10,
   "metadata": {},
   "outputs": [
    {
     "data": {
      "text/plain": [
       "str"
      ]
     },
     "execution_count": 10,
     "metadata": {},
     "output_type": "execute_result"
    }
   ],
   "source": [
    "type(rew[0])"
   ]
  },
  {
   "cell_type": "code",
   "execution_count": 40,
   "metadata": {},
   "outputs": [
    {
     "data": {
      "text/plain": [
       "array([2, 3, 4, 5, 6, 7])"
      ]
     },
     "execution_count": 40,
     "metadata": {},
     "output_type": "execute_result"
    }
   ],
   "source": [
    "np.arange(2,8)"
   ]
  },
  {
   "cell_type": "code",
   "execution_count": 104,
   "metadata": {},
   "outputs": [],
   "source": [
    "for i in rew:\n",
    "    components = np.arange"
   ]
  },
  {
   "cell_type": "code",
   "execution_count": 105,
   "metadata": {},
   "outputs": [],
   "source": [
    "import pandas as pd"
   ]
  },
  {
   "cell_type": "code",
   "execution_count": 106,
   "metadata": {},
   "outputs": [
    {
     "ename": "SyntaxError",
     "evalue": "(unicode error) 'unicodeescape' codec can't decode bytes in position 2-3: truncated \\UXXXXXXXX escape (<ipython-input-106-34297a0b7fe4>, line 1)",
     "output_type": "error",
     "traceback": [
      "\u001b[1;36m  File \u001b[1;32m\"<ipython-input-106-34297a0b7fe4>\"\u001b[1;36m, line \u001b[1;32m1\u001b[0m\n\u001b[1;33m    filepath = 'C:\\Users\\Andrew S\\Documents\\Trabajo\\Fisica Biomedica\\8vo\\Servicio Social\\Deeg.csv'\u001b[0m\n\u001b[1;37m               ^\u001b[0m\n\u001b[1;31mSyntaxError\u001b[0m\u001b[1;31m:\u001b[0m (unicode error) 'unicodeescape' codec can't decode bytes in position 2-3: truncated \\UXXXXXXXX escape\n"
     ]
    }
   ],
   "source": [
    "filepath = 'C:\\Users\\Andrew S\\Documents\\Trabajo\\Fisica Biomedica\\8vo\\Servicio Social\\Deeg.csv'"
   ]
  },
  {
   "cell_type": "code",
   "execution_count": 107,
   "metadata": {},
   "outputs": [],
   "source": [
    "base = pd.read_csv('Base1.csv')"
   ]
  },
  {
   "cell_type": "code",
   "execution_count": null,
   "metadata": {},
   "outputs": [],
   "source": []
  },
  {
   "cell_type": "code",
   "execution_count": null,
   "metadata": {},
   "outputs": [],
   "source": []
  },
  {
   "cell_type": "code",
   "execution_count": null,
   "metadata": {},
   "outputs": [],
   "source": []
  }
 ],
 "metadata": {
  "kernelspec": {
   "display_name": "Python 3",
   "language": "python",
   "name": "python3"
  },
  "language_info": {
   "codemirror_mode": {
    "name": "ipython",
    "version": 3
   },
   "file_extension": ".py",
   "mimetype": "text/x-python",
   "name": "python",
   "nbconvert_exporter": "python",
   "pygments_lexer": "ipython3",
   "version": "3.8.5"
  }
 },
 "nbformat": 4,
 "nbformat_minor": 4
}
